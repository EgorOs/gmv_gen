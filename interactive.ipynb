{
 "cells": [
  {
   "cell_type": "code",
   "execution_count": 4,
   "metadata": {},
   "outputs": [],
   "source": [
    "import scipy\n",
    "from sample import *\n",
    "import matplotlib as plt\n",
    "# https://cyberleninka.ru/article/v/algoritm-formirovaniya-posledovatelnostey-gordona-millsa-velcha"
   ]
  },
  {
   "cell_type": "code",
   "execution_count": 9,
   "metadata": {},
   "outputs": [
    {
     "name": "stdout",
     "output_type": "stream",
     "text": [
      "[[0 1 0 0 0 1 1 0 1]\n",
      " [0 1 1 0 0 1 1 0 1]\n",
      " [0 0 0 1 1 1 0 1 0]\n",
      " [0 0 1 0 0 0 0 0 0]\n",
      " [0 1 1 1 1 0 1 1 1]\n",
      " [0 0 1 1 1 1 0 1 0]\n",
      " [0 1 0 1 1 0 1 1 1]]\n"
     ]
    }
   ],
   "source": [
    "fc = FieldCreator()\n",
    "seed = [0, 0, 0, 0, 0, 1]\n",
    "check_coeffs = [6, 1, 0]\n",
    "order = 6\n",
    "J, S = (7, 9)\n",
    "seq = max_len_seq(order, state=seed, taps=check_coeffs)[0]\n",
    "F_MP_1 = fc.make_matrix(order, J, S, seed=seed, check_coeffs=check_coeffs)\n",
    "\n",
    "col_idx = 3\n",
    "st_1 = fc.make_shift_table_from_matrix(F_MP_1, col_idx)\n",
    "I_MP = fc.make_rule(F_MP_1, st_1)\n",
    "\n",
    "# https://books.ifmo.ru/file/pdf/958.pdf\n",
    "seq = max_len_seq(3, state=[0,0,1], taps=[3,1,0])[0]\n",
    "F_GMW = fc.make_gmw(J, I_MP, seq)\n",
    "\n",
    "print(F_GMW)\n",
    "\n",
    "# spec = fft(seq)\n",
    "# N = len(seq)\n",
    "# plt.plot(fftshift(fftfreq(N)), fftshift(np.abs(spec)), '.-')\n",
    "# plt.margins(0.1, 0.1)\n",
    "# plt.grid(True)\n",
    "# plt.show()"
   ]
  },
  {
   "cell_type": "code",
   "execution_count": 13,
   "metadata": {},
   "outputs": [
    {
     "name": "stdout",
     "output_type": "stream",
     "text": [
      "[[0 0 0 0 0 0 1 0 0 1 0 1 0 1 1 0 0 1 1 0 0 1 1 1 1 0 0 0 0 1 0 1]\n",
      " [0 0 0 0 0 1 1 1 1 0 1 1 0 0 1 0 0 0 0 0 0 0 0 0 1 0 1 0 0 1 0 0]\n",
      " [0 1 0 0 0 1 0 1 0 0 1 1 1 0 1 1 1 1 1 0 0 0 0 1 1 0 0 0 0 0 1 0]\n",
      " [0 0 0 0 1 0 0 0 0 0 1 1 0 0 1 0 0 1 0 0 1 1 0 0 0 0 0 0 1 0 0 0]\n",
      " [0 1 1 1 1 0 0 0 0 1 1 0 1 0 1 1 1 1 1 1 1 0 1 1 0 1 0 1 0 1 0 1]\n",
      " [0 0 0 0 0 0 0 1 1 1 1 0 0 1 0 0 0 1 1 0 0 1 1 1 0 0 1 0 0 0 0 1]\n",
      " [0 1 0 0 0 0 1 0 1 0 0 0 1 0 0 1 1 1 1 0 0 0 0 1 0 0 1 0 0 1 1 0]\n",
      " [0 1 0 0 1 1 0 1 0 0 0 0 1 0 0 1 1 0 1 0 0 1 0 1 1 0 0 0 1 0 1 0]\n",
      " [0 1 1 1 0 0 0 0 0 0 0 1 1 0 0 1 1 0 1 1 0 1 0 1 0 1 0 1 1 1 0 1]\n",
      " [0 1 1 1 1 0 0 1 1 0 0 0 1 1 1 1 1 0 0 1 1 1 0 0 0 1 1 1 0 1 0 0]\n",
      " [0 1 0 0 0 0 1 1 0 1 1 0 1 1 0 1 1 0 0 0 0 1 1 0 0 0 0 0 0 1 0 1]\n",
      " [0 0 0 0 1 1 1 1 1 0 0 0 0 0 0 0 0 1 0 0 0 1 0 0 1 0 1 0 1 1 0 0]\n",
      " [0 0 0 1 1 1 0 1 0 0 0 1 0 0 0 0 0 0 0 1 0 0 0 0 1 1 0 1 0 1 1 1]\n",
      " [0 0 0 0 1 0 0 1 1 0 0 1 0 1 1 0 0 0 1 0 1 0 0 1 0 0 1 0 1 0 0 1]\n",
      " [0 0 1 1 1 0 1 0 1 1 1 0 0 0 1 0 0 0 0 1 1 0 1 0 0 1 1 1 0 0 0 1]\n",
      " [0 1 0 0 1 1 0 0 1 1 1 0 1 1 0 1 1 1 0 0 0 0 1 0 0 0 1 0 1 0 0 1]\n",
      " [0 0 0 1 0 0 1 0 1 0 0 0 0 0 0 0 0 1 0 1 0 1 0 0 0 1 1 1 1 0 1 1]\n",
      " [0 0 0 1 0 1 0 0 1 0 0 0 0 1 0 0 0 0 1 1 1 0 0 1 1 1 1 1 1 1 1 0]\n",
      " [0 0 1 1 0 0 1 1 0 1 0 1 0 1 0 0 0 0 1 1 0 0 1 1 0 1 0 1 1 0 0 0]\n",
      " [0 1 1 1 0 1 1 0 0 0 0 0 1 1 1 1 1 0 0 1 1 0 0 0 0 1 0 1 1 0 0 0]\n",
      " [0 1 0 1 1 1 1 0 0 1 1 0 1 1 0 1 1 0 0 1 0 1 1 0 0 1 0 1 0 0 1 0]\n",
      " [0 0 0 0 0 1 1 0 0 0 0 0 0 1 0 0 0 1 0 0 1 1 0 0 1 0 0 0 0 1 0 1]\n",
      " [0 0 1 0 0 1 1 1 1 1 0 1 0 0 0 0 0 0 0 0 1 0 1 0 1 0 1 0 0 1 1 0]\n",
      " [0 0 0 0 0 1 0 1 0 1 0 1 0 0 1 0 0 0 1 0 1 0 1 1 0 0 0 0 0 0 0 0]\n",
      " [0 0 1 0 1 0 0 0 0 1 1 0 0 0 1 0 0 0 0 0 1 0 1 0 0 0 0 0 1 0 1 0]\n",
      " [0 1 0 1 1 0 0 0 0 1 1 0 1 0 0 1 1 1 0 1 1 0 1 0 1 1 0 1 0 0 1 1]\n",
      " [0 0 1 0 0 0 0 0 1 1 0 1 0 1 0 0 0 1 0 0 0 1 1 0 0 0 1 0 0 0 1 1]\n",
      " [0 0 1 0 0 0 1 0 1 0 0 0 0 0 1 0 0 0 1 0 0 0 0 1 1 0 1 0 0 1 1 0]\n",
      " [0 0 1 0 0 1 0 1 0 0 1 1 0 0 0 0 0 0 1 0 0 0 0 1 0 0 0 0 1 0 1 0]\n",
      " [0 1 1 1 0 0 0 0 0 0 0 0 1 0 1 1 1 1 0 1 0 0 0 0 1 1 0 1 1 0 0 0]\n",
      " [0 1 1 1 1 0 0 0 0 0 1 1 1 1 0 1 1 0 0 1 1 1 0 0 1 1 0 1 0 0 0 0]]\n"
     ]
    }
   ],
   "source": [
    "fc = FieldCreator()\n",
    "seq = max_len_seq(7, state=[0,0, 0,0,0,0,1])[0]\n",
    "J, S = (31, 33)\n",
    "order_2 = 10\n",
    "F_MP_2 = fc.make_matrix(order_2, J, S, seed=[0,0,0,0,0,0,0,0,0,1], )\n",
    "\n",
    "col_idx = 3\n",
    "st_2 = fc.make_shift_table_from_matrix(F_MP_2, col_idx)\n",
    "I_MP = fc.make_rule(F_MP_2, st_2)\n",
    "seq = max_len_seq(5, state=[0,0,0,0,1], taps=[5,1,0])[0]\n",
    "F_GMW = fc.make_gmw(J, I_MP, seq)\n",
    "print(F_GMW)"
   ]
  },
  {
   "cell_type": "code",
   "execution_count": 8,
   "metadata": {},
   "outputs": [
    {
     "data": {
      "text/plain": [
       "<matplotlib.image.AxesImage at 0x7f1404a801d0>"
      ]
     },
     "execution_count": 8,
     "metadata": {},
     "output_type": "execute_result"
    },
    {
     "data": {
      "image/png": "[encoded data removed]",
      "text/plain": [
       "<Figure size 432x288 with 1 Axes>"
      ]
     },
     "metadata": {
      "needs_background": "light"
     },
     "output_type": "display_data"
    }
   ],
   "source": [
    "plt.pyplot.imshow(F_GMW)"
   ]
  }
 ],
 "metadata": {
  "kernelspec": {
   "display_name": "Python 3",
   "language": "python",
   "name": "python3"
  },
  "language_info": {
   "codemirror_mode": {
    "name": "ipython",
    "version": 3
   },
   "file_extension": ".py",
   "mimetype": "text/x-python",
   "name": "python",
   "nbconvert_exporter": "python",
   "pygments_lexer": "ipython3",
   "version": "3.6.7"
  }
 },
 "nbformat": 4,
 "nbformat_minor": 2
}
